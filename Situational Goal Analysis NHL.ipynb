{
 "cells": [
  {
   "cell_type": "code",
   "execution_count": 1,
   "metadata": {},
   "outputs": [],
   "source": [
    "import numpy as np\n",
    "import pandas as pd\n",
    "import matplotlib.pyplot as plt\n",
    "import seaborn as sns"
   ]
  },
  {
   "cell_type": "markdown",
   "metadata": {},
   "source": [
    "# This notebook will be for exploring win percentages for particular situations in NHL games since 2000,  including the post season since 2010.\n",
    "\n",
    "We will first analyze wins for teams that score first, then see if this breakdown over year or over the time in the game the first goal occurs makes a large change.\n",
    "\n",
    "After, we will do the same for 2 and 3 goal leads, then quickly look at the situation of 4+ goal leads."
   ]
  },
  {
   "cell_type": "code",
   "execution_count": 3,
   "metadata": {},
   "outputs": [],
   "source": [
    "data = pd.read_csv('goals.csv')"
   ]
  },
  {
   "cell_type": "code",
   "execution_count": 4,
   "metadata": {},
   "outputs": [
    {
     "data": {
      "text/html": [
       "<div>\n",
       "<style scoped>\n",
       "    .dataframe tbody tr th:only-of-type {\n",
       "        vertical-align: middle;\n",
       "    }\n",
       "\n",
       "    .dataframe tbody tr th {\n",
       "        vertical-align: top;\n",
       "    }\n",
       "\n",
       "    .dataframe thead th {\n",
       "        text-align: right;\n",
       "    }\n",
       "</style>\n",
       "<table border=\"1\" class=\"dataframe\">\n",
       "  <thead>\n",
       "    <tr style=\"text-align: right;\">\n",
       "      <th></th>\n",
       "      <th>game_id</th>\n",
       "      <th>team_id_for</th>\n",
       "      <th>event</th>\n",
       "      <th>period</th>\n",
       "      <th>periodTime</th>\n",
       "      <th>goals_away</th>\n",
       "      <th>goals_home</th>\n",
       "      <th>won</th>\n",
       "    </tr>\n",
       "  </thead>\n",
       "  <tbody>\n",
       "    <tr>\n",
       "      <th>0</th>\n",
       "      <td>2017020762</td>\n",
       "      <td>1</td>\n",
       "      <td>Goal</td>\n",
       "      <td>2</td>\n",
       "      <td>349</td>\n",
       "      <td>1</td>\n",
       "      <td>0</td>\n",
       "      <td>True</td>\n",
       "    </tr>\n",
       "    <tr>\n",
       "      <th>1</th>\n",
       "      <td>2017020762</td>\n",
       "      <td>1</td>\n",
       "      <td>Goal</td>\n",
       "      <td>3</td>\n",
       "      <td>331</td>\n",
       "      <td>2</td>\n",
       "      <td>0</td>\n",
       "      <td>True</td>\n",
       "    </tr>\n",
       "    <tr>\n",
       "      <th>2</th>\n",
       "      <td>2017020762</td>\n",
       "      <td>7</td>\n",
       "      <td>Goal</td>\n",
       "      <td>3</td>\n",
       "      <td>898</td>\n",
       "      <td>2</td>\n",
       "      <td>1</td>\n",
       "      <td>False</td>\n",
       "    </tr>\n",
       "    <tr>\n",
       "      <th>3</th>\n",
       "      <td>2017020762</td>\n",
       "      <td>1</td>\n",
       "      <td>Goal</td>\n",
       "      <td>3</td>\n",
       "      <td>1194</td>\n",
       "      <td>3</td>\n",
       "      <td>1</td>\n",
       "      <td>True</td>\n",
       "    </tr>\n",
       "    <tr>\n",
       "      <th>4</th>\n",
       "      <td>2015020565</td>\n",
       "      <td>8</td>\n",
       "      <td>Goal</td>\n",
       "      <td>1</td>\n",
       "      <td>74</td>\n",
       "      <td>1</td>\n",
       "      <td>0</td>\n",
       "      <td>True</td>\n",
       "    </tr>\n",
       "  </tbody>\n",
       "</table>\n",
       "</div>"
      ],
      "text/plain": [
       "      game_id  team_id_for event  period  periodTime  goals_away  goals_home  \\\n",
       "0  2017020762            1  Goal       2         349           1           0   \n",
       "1  2017020762            1  Goal       3         331           2           0   \n",
       "2  2017020762            7  Goal       3         898           2           1   \n",
       "3  2017020762            1  Goal       3        1194           3           1   \n",
       "4  2015020565            8  Goal       1          74           1           0   \n",
       "\n",
       "     won  \n",
       "0   True  \n",
       "1   True  \n",
       "2  False  \n",
       "3   True  \n",
       "4   True  "
      ]
     },
     "execution_count": 4,
     "metadata": {},
     "output_type": "execute_result"
    }
   ],
   "source": [
    "data.head()"
   ]
  },
  {
   "cell_type": "code",
   "execution_count": 5,
   "metadata": {},
   "outputs": [
    {
     "data": {
      "text/plain": [
       "(180286, 8)"
      ]
     },
     "execution_count": 5,
     "metadata": {},
     "output_type": "execute_result"
    }
   ],
   "source": [
    "data.shape"
   ]
  },
  {
   "cell_type": "markdown",
   "metadata": {},
   "source": [
    "# Data Preparation and Exploration"
   ]
  },
  {
   "cell_type": "code",
   "execution_count": 6,
   "metadata": {},
   "outputs": [
    {
     "data": {
      "text/plain": [
       "array(['Goal'], dtype=object)"
      ]
     },
     "execution_count": 6,
     "metadata": {},
     "output_type": "execute_result"
    }
   ],
   "source": [
    "# Show that all the event column is 'Goal', then drop it since it is redundant\n",
    "\n",
    "data['event'].unique() # drop"
   ]
  },
  {
   "cell_type": "code",
   "execution_count": 7,
   "metadata": {},
   "outputs": [],
   "source": [
    "data = data.drop('event', axis=1)"
   ]
  },
  {
   "cell_type": "markdown",
   "metadata": {},
   "source": [
    "We will have a use for a goals difference column since that is the main focus, so we will create that now."
   ]
  },
  {
   "cell_type": "code",
   "execution_count": 8,
   "metadata": {},
   "outputs": [],
   "source": [
    "data['goals_diff'] = np.absolute(data['goals_away'] - data['goals_home'])"
   ]
  },
  {
   "cell_type": "markdown",
   "metadata": {},
   "source": [
    "The above shows the data we decided to keep. Notice that each row should be unique because the game_id will have a unique combination of goals_away and goals_home. We will check to see if there are any duplicates."
   ]
  },
  {
   "cell_type": "code",
   "execution_count": 9,
   "metadata": {},
   "outputs": [
    {
     "data": {
      "text/html": [
       "<div>\n",
       "<style scoped>\n",
       "    .dataframe tbody tr th:only-of-type {\n",
       "        vertical-align: middle;\n",
       "    }\n",
       "\n",
       "    .dataframe tbody tr th {\n",
       "        vertical-align: top;\n",
       "    }\n",
       "\n",
       "    .dataframe thead th {\n",
       "        text-align: right;\n",
       "    }\n",
       "</style>\n",
       "<table border=\"1\" class=\"dataframe\">\n",
       "  <thead>\n",
       "    <tr style=\"text-align: right;\">\n",
       "      <th></th>\n",
       "      <th>game_id</th>\n",
       "      <th>team_id_for</th>\n",
       "      <th>period</th>\n",
       "      <th>periodTime</th>\n",
       "      <th>goals_away</th>\n",
       "      <th>goals_home</th>\n",
       "      <th>won</th>\n",
       "      <th>goals_diff</th>\n",
       "    </tr>\n",
       "  </thead>\n",
       "  <tbody>\n",
       "    <tr>\n",
       "      <th>16</th>\n",
       "      <td>2015020798</td>\n",
       "      <td>2</td>\n",
       "      <td>5</td>\n",
       "      <td>0</td>\n",
       "      <td>2</td>\n",
       "      <td>2</td>\n",
       "      <td>True</td>\n",
       "      <td>0</td>\n",
       "    </tr>\n",
       "    <tr>\n",
       "      <th>84</th>\n",
       "      <td>2016020883</td>\n",
       "      <td>8</td>\n",
       "      <td>5</td>\n",
       "      <td>0</td>\n",
       "      <td>2</td>\n",
       "      <td>2</td>\n",
       "      <td>True</td>\n",
       "      <td>0</td>\n",
       "    </tr>\n",
       "    <tr>\n",
       "      <th>91</th>\n",
       "      <td>2015020110</td>\n",
       "      <td>4</td>\n",
       "      <td>5</td>\n",
       "      <td>0</td>\n",
       "      <td>2</td>\n",
       "      <td>2</td>\n",
       "      <td>True</td>\n",
       "      <td>0</td>\n",
       "    </tr>\n",
       "    <tr>\n",
       "      <th>229</th>\n",
       "      <td>2016020510</td>\n",
       "      <td>17</td>\n",
       "      <td>5</td>\n",
       "      <td>0</td>\n",
       "      <td>3</td>\n",
       "      <td>3</td>\n",
       "      <td>True</td>\n",
       "      <td>0</td>\n",
       "    </tr>\n",
       "    <tr>\n",
       "      <th>236</th>\n",
       "      <td>2015020969</td>\n",
       "      <td>30</td>\n",
       "      <td>5</td>\n",
       "      <td>0</td>\n",
       "      <td>2</td>\n",
       "      <td>2</td>\n",
       "      <td>True</td>\n",
       "      <td>0</td>\n",
       "    </tr>\n",
       "    <tr>\n",
       "      <th>...</th>\n",
       "      <td>...</td>\n",
       "      <td>...</td>\n",
       "      <td>...</td>\n",
       "      <td>...</td>\n",
       "      <td>...</td>\n",
       "      <td>...</td>\n",
       "      <td>...</td>\n",
       "      <td>...</td>\n",
       "    </tr>\n",
       "    <tr>\n",
       "      <th>180281</th>\n",
       "      <td>2018020991</td>\n",
       "      <td>5</td>\n",
       "      <td>1</td>\n",
       "      <td>245</td>\n",
       "      <td>1</td>\n",
       "      <td>1</td>\n",
       "      <td>False</td>\n",
       "      <td>0</td>\n",
       "    </tr>\n",
       "    <tr>\n",
       "      <th>180282</th>\n",
       "      <td>2018020991</td>\n",
       "      <td>7</td>\n",
       "      <td>1</td>\n",
       "      <td>773</td>\n",
       "      <td>1</td>\n",
       "      <td>2</td>\n",
       "      <td>True</td>\n",
       "      <td>1</td>\n",
       "    </tr>\n",
       "    <tr>\n",
       "      <th>180283</th>\n",
       "      <td>2018020991</td>\n",
       "      <td>5</td>\n",
       "      <td>2</td>\n",
       "      <td>1038</td>\n",
       "      <td>2</td>\n",
       "      <td>2</td>\n",
       "      <td>False</td>\n",
       "      <td>0</td>\n",
       "    </tr>\n",
       "    <tr>\n",
       "      <th>180284</th>\n",
       "      <td>2018020991</td>\n",
       "      <td>5</td>\n",
       "      <td>2</td>\n",
       "      <td>1101</td>\n",
       "      <td>3</td>\n",
       "      <td>2</td>\n",
       "      <td>False</td>\n",
       "      <td>1</td>\n",
       "    </tr>\n",
       "    <tr>\n",
       "      <th>180285</th>\n",
       "      <td>2018020991</td>\n",
       "      <td>7</td>\n",
       "      <td>3</td>\n",
       "      <td>1048</td>\n",
       "      <td>3</td>\n",
       "      <td>3</td>\n",
       "      <td>True</td>\n",
       "      <td>0</td>\n",
       "    </tr>\n",
       "  </tbody>\n",
       "</table>\n",
       "<p>48668 rows × 8 columns</p>\n",
       "</div>"
      ],
      "text/plain": [
       "           game_id  team_id_for  period  periodTime  goals_away  goals_home  \\\n",
       "16      2015020798            2       5           0           2           2   \n",
       "84      2016020883            8       5           0           2           2   \n",
       "91      2015020110            4       5           0           2           2   \n",
       "229     2016020510           17       5           0           3           3   \n",
       "236     2015020969           30       5           0           2           2   \n",
       "...            ...          ...     ...         ...         ...         ...   \n",
       "180281  2018020991            5       1         245           1           1   \n",
       "180282  2018020991            7       1         773           1           2   \n",
       "180283  2018020991            5       2        1038           2           2   \n",
       "180284  2018020991            5       2        1101           3           2   \n",
       "180285  2018020991            7       3        1048           3           3   \n",
       "\n",
       "          won  goals_diff  \n",
       "16       True           0  \n",
       "84       True           0  \n",
       "91       True           0  \n",
       "229      True           0  \n",
       "236      True           0  \n",
       "...       ...         ...  \n",
       "180281  False           0  \n",
       "180282   True           1  \n",
       "180283  False           0  \n",
       "180284  False           1  \n",
       "180285   True           0  \n",
       "\n",
       "[48668 rows x 8 columns]"
      ]
     },
     "execution_count": 9,
     "metadata": {},
     "output_type": "execute_result"
    }
   ],
   "source": [
    "data[data.duplicated() == True]"
   ]
  },
  {
   "cell_type": "markdown",
   "metadata": {},
   "source": [
    "It appears there are many duplicate rows. Since all games should be uniquely identified by the game_id, goals_away, and goals_home combination, we will directly delete these."
   ]
  },
  {
   "cell_type": "code",
   "execution_count": 10,
   "metadata": {},
   "outputs": [],
   "source": [
    "data = data.drop_duplicates()"
   ]
  },
  {
   "cell_type": "markdown",
   "metadata": {},
   "source": [
    "One thing to keep note of here: The sixth digit refers to the type of game: 1 = preseason, 2 = regular season, 3 = postseason, 4 = all star.\n",
    "\n",
    "We would not be interested in either preseason or all star games, so let's delete those."
   ]
  },
  {
   "cell_type": "code",
   "execution_count": 12,
   "metadata": {},
   "outputs": [],
   "source": [
    "# Reset index for simplicity\n",
    "\n",
    "data = data.reset_index()\n",
    "\n",
    "data = data.drop('index', axis=1)\n",
    "\n",
    "# Remove the rows with 6th entry in game_id as 1 or 4\n",
    "\n",
    "idx_remove = []\n",
    "\n",
    "for i in range(len(data)):\n",
    "    char = str(data['game_id'][i])[5]\n",
    "    if char == '1' or char == '4':\n",
    "        idx_remove.append(i)\n",
    "        \n",
    "data = data.drop(idx_remove, axis=0)"
   ]
  },
  {
   "cell_type": "markdown",
   "metadata": {},
   "source": [
    "Our data now only consists of regular season and playoff games, no duplicates. We now want to look for possible errors.\n",
    "Let's plot when the goals were scored. Since there is no duplicates, we will break it down by period."
   ]
  },
  {
   "cell_type": "code",
   "execution_count": 13,
   "metadata": {},
   "outputs": [
    {
     "data": {
      "text/plain": [
       "<AxesSubplot:xlabel='period', ylabel='count'>"
      ]
     },
     "execution_count": 13,
     "metadata": {},
     "output_type": "execute_result"
    },
    {
     "data": {
      "image/png": "[encoded data removed]",
      "text/plain": [
       "<Figure size 432x288 with 1 Axes>"
      ]
     },
     "metadata": {
      "needs_background": "light"
     },
     "output_type": "display_data"
    }
   ],
   "source": [
    "sns.countplot(data=data, x='period')"
   ]
  },
  {
   "cell_type": "markdown",
   "metadata": {},
   "source": [
    "Since an NHL game is 3 periods, the 4th period represents OT. In the playoffs, OT can last indefinitely, which is why we can see the period go beyond 4. However, it is highly unlikely there should be more period 5 goals than 4 goals, so let's look at these."
   ]
  },
  {
   "cell_type": "code",
   "execution_count": 14,
   "metadata": {},
   "outputs": [
    {
     "data": {
      "text/html": [
       "<div>\n",
       "<style scoped>\n",
       "    .dataframe tbody tr th:only-of-type {\n",
       "        vertical-align: middle;\n",
       "    }\n",
       "\n",
       "    .dataframe tbody tr th {\n",
       "        vertical-align: top;\n",
       "    }\n",
       "\n",
       "    .dataframe thead th {\n",
       "        text-align: right;\n",
       "    }\n",
       "</style>\n",
       "<table border=\"1\" class=\"dataframe\">\n",
       "  <thead>\n",
       "    <tr style=\"text-align: right;\">\n",
       "      <th></th>\n",
       "      <th>count</th>\n",
       "      <th>mean</th>\n",
       "      <th>std</th>\n",
       "      <th>min</th>\n",
       "      <th>25%</th>\n",
       "      <th>50%</th>\n",
       "      <th>75%</th>\n",
       "      <th>max</th>\n",
       "    </tr>\n",
       "  </thead>\n",
       "  <tbody>\n",
       "    <tr>\n",
       "      <th>game_id</th>\n",
       "      <td>2964.0</td>\n",
       "      <td>2.011349e+09</td>\n",
       "      <td>4.083021e+06</td>\n",
       "      <td>2.005020e+09</td>\n",
       "      <td>2.008020e+09</td>\n",
       "      <td>2.011021e+09</td>\n",
       "      <td>2.014021e+09</td>\n",
       "      <td>2.019030e+09</td>\n",
       "    </tr>\n",
       "    <tr>\n",
       "      <th>team_id_for</th>\n",
       "      <td>2964.0</td>\n",
       "      <td>1.675776e+01</td>\n",
       "      <td>1.089204e+01</td>\n",
       "      <td>1.000000e+00</td>\n",
       "      <td>8.000000e+00</td>\n",
       "      <td>1.600000e+01</td>\n",
       "      <td>2.400000e+01</td>\n",
       "      <td>5.400000e+01</td>\n",
       "    </tr>\n",
       "    <tr>\n",
       "      <th>period</th>\n",
       "      <td>2964.0</td>\n",
       "      <td>5.000000e+00</td>\n",
       "      <td>0.000000e+00</td>\n",
       "      <td>5.000000e+00</td>\n",
       "      <td>5.000000e+00</td>\n",
       "      <td>5.000000e+00</td>\n",
       "      <td>5.000000e+00</td>\n",
       "      <td>5.000000e+00</td>\n",
       "    </tr>\n",
       "    <tr>\n",
       "      <th>periodTime</th>\n",
       "      <td>2964.0</td>\n",
       "      <td>6.679825e+00</td>\n",
       "      <td>6.533239e+01</td>\n",
       "      <td>0.000000e+00</td>\n",
       "      <td>0.000000e+00</td>\n",
       "      <td>0.000000e+00</td>\n",
       "      <td>0.000000e+00</td>\n",
       "      <td>9.600000e+02</td>\n",
       "    </tr>\n",
       "    <tr>\n",
       "      <th>goals_away</th>\n",
       "      <td>2964.0</td>\n",
       "      <td>2.392713e+00</td>\n",
       "      <td>1.131705e+00</td>\n",
       "      <td>0.000000e+00</td>\n",
       "      <td>2.000000e+00</td>\n",
       "      <td>2.000000e+00</td>\n",
       "      <td>3.000000e+00</td>\n",
       "      <td>6.000000e+00</td>\n",
       "    </tr>\n",
       "    <tr>\n",
       "      <th>goals_home</th>\n",
       "      <td>2964.0</td>\n",
       "      <td>2.391363e+00</td>\n",
       "      <td>1.132769e+00</td>\n",
       "      <td>0.000000e+00</td>\n",
       "      <td>2.000000e+00</td>\n",
       "      <td>2.000000e+00</td>\n",
       "      <td>3.000000e+00</td>\n",
       "      <td>6.000000e+00</td>\n",
       "    </tr>\n",
       "    <tr>\n",
       "      <th>goals_diff</th>\n",
       "      <td>2964.0</td>\n",
       "      <td>1.349528e-02</td>\n",
       "      <td>1.154021e-01</td>\n",
       "      <td>0.000000e+00</td>\n",
       "      <td>0.000000e+00</td>\n",
       "      <td>0.000000e+00</td>\n",
       "      <td>0.000000e+00</td>\n",
       "      <td>1.000000e+00</td>\n",
       "    </tr>\n",
       "  </tbody>\n",
       "</table>\n",
       "</div>"
      ],
      "text/plain": [
       "              count          mean           std           min           25%  \\\n",
       "game_id      2964.0  2.011349e+09  4.083021e+06  2.005020e+09  2.008020e+09   \n",
       "team_id_for  2964.0  1.675776e+01  1.089204e+01  1.000000e+00  8.000000e+00   \n",
       "period       2964.0  5.000000e+00  0.000000e+00  5.000000e+00  5.000000e+00   \n",
       "periodTime   2964.0  6.679825e+00  6.533239e+01  0.000000e+00  0.000000e+00   \n",
       "goals_away   2964.0  2.392713e+00  1.131705e+00  0.000000e+00  2.000000e+00   \n",
       "goals_home   2964.0  2.391363e+00  1.132769e+00  0.000000e+00  2.000000e+00   \n",
       "goals_diff   2964.0  1.349528e-02  1.154021e-01  0.000000e+00  0.000000e+00   \n",
       "\n",
       "                      50%           75%           max  \n",
       "game_id      2.011021e+09  2.014021e+09  2.019030e+09  \n",
       "team_id_for  1.600000e+01  2.400000e+01  5.400000e+01  \n",
       "period       5.000000e+00  5.000000e+00  5.000000e+00  \n",
       "periodTime   0.000000e+00  0.000000e+00  9.600000e+02  \n",
       "goals_away   2.000000e+00  3.000000e+00  6.000000e+00  \n",
       "goals_home   2.000000e+00  3.000000e+00  6.000000e+00  \n",
       "goals_diff   0.000000e+00  0.000000e+00  1.000000e+00  "
      ]
     },
     "execution_count": 14,
     "metadata": {},
     "output_type": "execute_result"
    }
   ],
   "source": [
    "per5_goals = data[data['period'] == 5]\n",
    "\n",
    "per5_goals.describe().transpose()"
   ]
  },
  {
   "cell_type": "markdown",
   "metadata": {},
   "source": [
    "The periodTime row is quite alarming because it is stating that over 75% of goals scored here scored zero seconds into the period. This is probably because the NHL API may count the 5th period as a shootout, which is untimed and has at least 5 opportunities for goals. We should remove all these rows with zero time.\n",
    "\n",
    "Note that we have the record of who won and loss the game, so recording these goals will only give bad data at a loss of no information."
   ]
  },
  {
   "cell_type": "code",
   "execution_count": 15,
   "metadata": {},
   "outputs": [
    {
     "data": {
      "text/plain": [
       "array([0], dtype=int64)"
      ]
     },
     "execution_count": 15,
     "metadata": {},
     "output_type": "execute_result"
    }
   ],
   "source": [
    "# Just make sure all the goal_diff = 0 for these\n",
    "\n",
    "per5_goals[per5_goals['periodTime'] == 0]['goals_diff'].unique() # all zeros, which is not possible in OT after scoring."
   ]
  },
  {
   "cell_type": "code",
   "execution_count": 16,
   "metadata": {},
   "outputs": [],
   "source": [
    "data = data[(data['period'] !=5) | (data['periodTime'] != 0)] # Remove goals that were decided in period 5 and time 0"
   ]
  },
  {
   "cell_type": "code",
   "execution_count": 78,
   "metadata": {},
   "outputs": [
    {
     "data": {
      "text/plain": [
       "<AxesSubplot:xlabel='period', ylabel='count'>"
      ]
     },
     "execution_count": 78,
     "metadata": {},
     "output_type": "execute_result"
    },
    {
     "data": {
      "image/png": "[encoded data removed]",
      "text/plain": [
       "<Figure size 432x288 with 1 Axes>"
      ]
     },
     "metadata": {
      "needs_background": "light"
     },
     "output_type": "display_data"
    }
   ],
   "source": [
    "# Plot goals by period after fixing.\n",
    "\n",
    "sns.countplot(data=data, x='period')"
   ]
  },
  {
   "cell_type": "code",
   "execution_count": 17,
   "metadata": {},
   "outputs": [
    {
     "data": {
      "text/plain": [
       "2    44397\n",
       "3    43820\n",
       "1    37593\n",
       "4     2773\n",
       "5       40\n",
       "6        6\n",
       "8        1\n",
       "Name: period, dtype: int64"
      ]
     },
     "execution_count": 17,
     "metadata": {},
     "output_type": "execute_result"
    }
   ],
   "source": [
    "data['period'].value_counts() # See actual number of goals sorted by period."
   ]
  },
  {
   "cell_type": "markdown",
   "metadata": {},
   "source": [
    "The above shows what we would expect. There tends to be more goals scored in period 2 due to the \"long change\", but period 3 should have more goals than period 1 since team that are losing become more desparate to try to win. We will look and see if there are any other goals scored at periodTime=0 to make sure."
   ]
  },
  {
   "cell_type": "code",
   "execution_count": 18,
   "metadata": {},
   "outputs": [
    {
     "data": {
      "text/html": [
       "<div>\n",
       "<style scoped>\n",
       "    .dataframe tbody tr th:only-of-type {\n",
       "        vertical-align: middle;\n",
       "    }\n",
       "\n",
       "    .dataframe tbody tr th {\n",
       "        vertical-align: top;\n",
       "    }\n",
       "\n",
       "    .dataframe thead th {\n",
       "        text-align: right;\n",
       "    }\n",
       "</style>\n",
       "<table border=\"1\" class=\"dataframe\">\n",
       "  <thead>\n",
       "    <tr style=\"text-align: right;\">\n",
       "      <th></th>\n",
       "      <th>game_id</th>\n",
       "      <th>team_id_for</th>\n",
       "      <th>period</th>\n",
       "      <th>periodTime</th>\n",
       "      <th>goals_away</th>\n",
       "      <th>goals_home</th>\n",
       "      <th>won</th>\n",
       "      <th>goals_diff</th>\n",
       "    </tr>\n",
       "  </thead>\n",
       "  <tbody>\n",
       "    <tr>\n",
       "      <th>29878</th>\n",
       "      <td>2013020971</td>\n",
       "      <td>29</td>\n",
       "      <td>1</td>\n",
       "      <td>0</td>\n",
       "      <td>1</td>\n",
       "      <td>0</td>\n",
       "      <td>True</td>\n",
       "      <td>1</td>\n",
       "    </tr>\n",
       "    <tr>\n",
       "      <th>97206</th>\n",
       "      <td>2005020312</td>\n",
       "      <td>18</td>\n",
       "      <td>1</td>\n",
       "      <td>0</td>\n",
       "      <td>1</td>\n",
       "      <td>0</td>\n",
       "      <td>True</td>\n",
       "      <td>1</td>\n",
       "    </tr>\n",
       "    <tr>\n",
       "      <th>121590</th>\n",
       "      <td>2019020876</td>\n",
       "      <td>24</td>\n",
       "      <td>1</td>\n",
       "      <td>0</td>\n",
       "      <td>0</td>\n",
       "      <td>1</td>\n",
       "      <td>False</td>\n",
       "      <td>1</td>\n",
       "    </tr>\n",
       "    <tr>\n",
       "      <th>121591</th>\n",
       "      <td>2019020876</td>\n",
       "      <td>19</td>\n",
       "      <td>1</td>\n",
       "      <td>0</td>\n",
       "      <td>1</td>\n",
       "      <td>1</td>\n",
       "      <td>True</td>\n",
       "      <td>0</td>\n",
       "    </tr>\n",
       "  </tbody>\n",
       "</table>\n",
       "</div>"
      ],
      "text/plain": [
       "           game_id  team_id_for  period  periodTime  goals_away  goals_home  \\\n",
       "29878   2013020971           29       1           0           1           0   \n",
       "97206   2005020312           18       1           0           1           0   \n",
       "121590  2019020876           24       1           0           0           1   \n",
       "121591  2019020876           19       1           0           1           1   \n",
       "\n",
       "          won  goals_diff  \n",
       "29878    True           1  \n",
       "97206    True           1  \n",
       "121590  False           1  \n",
       "121591   True           0  "
      ]
     },
     "execution_count": 18,
     "metadata": {},
     "output_type": "execute_result"
    }
   ],
   "source": [
    "data[data['periodTime'] == 0]"
   ]
  },
  {
   "cell_type": "code",
   "execution_count": 19,
   "metadata": {},
   "outputs": [
    {
     "data": {
      "text/html": [
       "<div>\n",
       "<style scoped>\n",
       "    .dataframe tbody tr th:only-of-type {\n",
       "        vertical-align: middle;\n",
       "    }\n",
       "\n",
       "    .dataframe tbody tr th {\n",
       "        vertical-align: top;\n",
       "    }\n",
       "\n",
       "    .dataframe thead th {\n",
       "        text-align: right;\n",
       "    }\n",
       "</style>\n",
       "<table border=\"1\" class=\"dataframe\">\n",
       "  <thead>\n",
       "    <tr style=\"text-align: right;\">\n",
       "      <th></th>\n",
       "      <th>game_id</th>\n",
       "      <th>team_id_for</th>\n",
       "      <th>period</th>\n",
       "      <th>periodTime</th>\n",
       "      <th>goals_away</th>\n",
       "      <th>goals_home</th>\n",
       "      <th>won</th>\n",
       "      <th>goals_diff</th>\n",
       "    </tr>\n",
       "  </thead>\n",
       "  <tbody>\n",
       "    <tr>\n",
       "      <th>29878</th>\n",
       "      <td>2013020971</td>\n",
       "      <td>29</td>\n",
       "      <td>1</td>\n",
       "      <td>0</td>\n",
       "      <td>1</td>\n",
       "      <td>0</td>\n",
       "      <td>True</td>\n",
       "      <td>1</td>\n",
       "    </tr>\n",
       "    <tr>\n",
       "      <th>29879</th>\n",
       "      <td>2013020971</td>\n",
       "      <td>29</td>\n",
       "      <td>1</td>\n",
       "      <td>93</td>\n",
       "      <td>2</td>\n",
       "      <td>0</td>\n",
       "      <td>True</td>\n",
       "      <td>2</td>\n",
       "    </tr>\n",
       "    <tr>\n",
       "      <th>29880</th>\n",
       "      <td>2013020971</td>\n",
       "      <td>29</td>\n",
       "      <td>1</td>\n",
       "      <td>807</td>\n",
       "      <td>3</td>\n",
       "      <td>0</td>\n",
       "      <td>True</td>\n",
       "      <td>3</td>\n",
       "    </tr>\n",
       "    <tr>\n",
       "      <th>29881</th>\n",
       "      <td>2013020971</td>\n",
       "      <td>25</td>\n",
       "      <td>3</td>\n",
       "      <td>519</td>\n",
       "      <td>3</td>\n",
       "      <td>1</td>\n",
       "      <td>False</td>\n",
       "      <td>2</td>\n",
       "    </tr>\n",
       "    <tr>\n",
       "      <th>97206</th>\n",
       "      <td>2005020312</td>\n",
       "      <td>18</td>\n",
       "      <td>1</td>\n",
       "      <td>0</td>\n",
       "      <td>1</td>\n",
       "      <td>0</td>\n",
       "      <td>True</td>\n",
       "      <td>1</td>\n",
       "    </tr>\n",
       "    <tr>\n",
       "      <th>97207</th>\n",
       "      <td>2005020312</td>\n",
       "      <td>18</td>\n",
       "      <td>1</td>\n",
       "      <td>236</td>\n",
       "      <td>2</td>\n",
       "      <td>0</td>\n",
       "      <td>True</td>\n",
       "      <td>2</td>\n",
       "    </tr>\n",
       "    <tr>\n",
       "      <th>97208</th>\n",
       "      <td>2005020312</td>\n",
       "      <td>17</td>\n",
       "      <td>2</td>\n",
       "      <td>40</td>\n",
       "      <td>2</td>\n",
       "      <td>1</td>\n",
       "      <td>False</td>\n",
       "      <td>1</td>\n",
       "    </tr>\n",
       "    <tr>\n",
       "      <th>97209</th>\n",
       "      <td>2005020312</td>\n",
       "      <td>17</td>\n",
       "      <td>2</td>\n",
       "      <td>315</td>\n",
       "      <td>2</td>\n",
       "      <td>2</td>\n",
       "      <td>False</td>\n",
       "      <td>0</td>\n",
       "    </tr>\n",
       "    <tr>\n",
       "      <th>97210</th>\n",
       "      <td>2005020312</td>\n",
       "      <td>18</td>\n",
       "      <td>2</td>\n",
       "      <td>570</td>\n",
       "      <td>3</td>\n",
       "      <td>2</td>\n",
       "      <td>True</td>\n",
       "      <td>1</td>\n",
       "    </tr>\n",
       "    <tr>\n",
       "      <th>121590</th>\n",
       "      <td>2019020876</td>\n",
       "      <td>24</td>\n",
       "      <td>1</td>\n",
       "      <td>0</td>\n",
       "      <td>0</td>\n",
       "      <td>1</td>\n",
       "      <td>False</td>\n",
       "      <td>1</td>\n",
       "    </tr>\n",
       "    <tr>\n",
       "      <th>121591</th>\n",
       "      <td>2019020876</td>\n",
       "      <td>19</td>\n",
       "      <td>1</td>\n",
       "      <td>0</td>\n",
       "      <td>1</td>\n",
       "      <td>1</td>\n",
       "      <td>True</td>\n",
       "      <td>0</td>\n",
       "    </tr>\n",
       "    <tr>\n",
       "      <th>121592</th>\n",
       "      <td>2019020876</td>\n",
       "      <td>19</td>\n",
       "      <td>1</td>\n",
       "      <td>968</td>\n",
       "      <td>2</td>\n",
       "      <td>1</td>\n",
       "      <td>True</td>\n",
       "      <td>1</td>\n",
       "    </tr>\n",
       "    <tr>\n",
       "      <th>121593</th>\n",
       "      <td>2019020876</td>\n",
       "      <td>24</td>\n",
       "      <td>2</td>\n",
       "      <td>808</td>\n",
       "      <td>2</td>\n",
       "      <td>2</td>\n",
       "      <td>False</td>\n",
       "      <td>0</td>\n",
       "    </tr>\n",
       "    <tr>\n",
       "      <th>121594</th>\n",
       "      <td>2019020876</td>\n",
       "      <td>19</td>\n",
       "      <td>2</td>\n",
       "      <td>1033</td>\n",
       "      <td>3</td>\n",
       "      <td>2</td>\n",
       "      <td>True</td>\n",
       "      <td>1</td>\n",
       "    </tr>\n",
       "    <tr>\n",
       "      <th>121595</th>\n",
       "      <td>2019020876</td>\n",
       "      <td>19</td>\n",
       "      <td>3</td>\n",
       "      <td>1140</td>\n",
       "      <td>4</td>\n",
       "      <td>2</td>\n",
       "      <td>True</td>\n",
       "      <td>2</td>\n",
       "    </tr>\n",
       "  </tbody>\n",
       "</table>\n",
       "</div>"
      ],
      "text/plain": [
       "           game_id  team_id_for  period  periodTime  goals_away  goals_home  \\\n",
       "29878   2013020971           29       1           0           1           0   \n",
       "29879   2013020971           29       1          93           2           0   \n",
       "29880   2013020971           29       1         807           3           0   \n",
       "29881   2013020971           25       3         519           3           1   \n",
       "97206   2005020312           18       1           0           1           0   \n",
       "97207   2005020312           18       1         236           2           0   \n",
       "97208   2005020312           17       2          40           2           1   \n",
       "97209   2005020312           17       2         315           2           2   \n",
       "97210   2005020312           18       2         570           3           2   \n",
       "121590  2019020876           24       1           0           0           1   \n",
       "121591  2019020876           19       1           0           1           1   \n",
       "121592  2019020876           19       1         968           2           1   \n",
       "121593  2019020876           24       2         808           2           2   \n",
       "121594  2019020876           19       2        1033           3           2   \n",
       "121595  2019020876           19       3        1140           4           2   \n",
       "\n",
       "          won  goals_diff  \n",
       "29878    True           1  \n",
       "29879    True           2  \n",
       "29880    True           3  \n",
       "29881   False           2  \n",
       "97206    True           1  \n",
       "97207    True           2  \n",
       "97208   False           1  \n",
       "97209   False           0  \n",
       "97210    True           1  \n",
       "121590  False           1  \n",
       "121591   True           0  \n",
       "121592   True           1  \n",
       "121593  False           0  \n",
       "121594   True           1  \n",
       "121595   True           2  "
      ]
     },
     "execution_count": 19,
     "metadata": {},
     "output_type": "execute_result"
    }
   ],
   "source": [
    "# The above shows 4 potential errors, but with the goals_away and goals_home categories, it looks like\n",
    "# the only error was in the periodTime column. We will look at these games individually to make sure\n",
    "\n",
    "zero_time_game_ids = data[data['periodTime'] == 0]['game_id'].unique().tolist()\n",
    "\n",
    "data.loc[data['game_id'].isin(zero_time_game_ids)]"
   ]
  },
  {
   "cell_type": "markdown",
   "metadata": {},
   "source": [
    "The above shows all these seem to be timing errors from what we can tell because by the other columns everything seems to be okay."
   ]
  },
  {
   "cell_type": "code",
   "execution_count": 20,
   "metadata": {},
   "outputs": [
    {
     "data": {
      "text/html": [
       "<div>\n",
       "<style scoped>\n",
       "    .dataframe tbody tr th:only-of-type {\n",
       "        vertical-align: middle;\n",
       "    }\n",
       "\n",
       "    .dataframe tbody tr th {\n",
       "        vertical-align: top;\n",
       "    }\n",
       "\n",
       "    .dataframe thead th {\n",
       "        text-align: right;\n",
       "    }\n",
       "</style>\n",
       "<table border=\"1\" class=\"dataframe\">\n",
       "  <thead>\n",
       "    <tr style=\"text-align: right;\">\n",
       "      <th></th>\n",
       "      <th>game_id</th>\n",
       "      <th>team_id_for</th>\n",
       "      <th>period</th>\n",
       "      <th>periodTime</th>\n",
       "      <th>goals_away</th>\n",
       "      <th>goals_home</th>\n",
       "      <th>won</th>\n",
       "      <th>goals_diff</th>\n",
       "      <th>year</th>\n",
       "    </tr>\n",
       "  </thead>\n",
       "  <tbody>\n",
       "    <tr>\n",
       "      <th>0</th>\n",
       "      <td>2017020762</td>\n",
       "      <td>1</td>\n",
       "      <td>2</td>\n",
       "      <td>349</td>\n",
       "      <td>1</td>\n",
       "      <td>0</td>\n",
       "      <td>True</td>\n",
       "      <td>1</td>\n",
       "      <td>2017</td>\n",
       "    </tr>\n",
       "    <tr>\n",
       "      <th>1</th>\n",
       "      <td>2017020762</td>\n",
       "      <td>1</td>\n",
       "      <td>3</td>\n",
       "      <td>331</td>\n",
       "      <td>2</td>\n",
       "      <td>0</td>\n",
       "      <td>True</td>\n",
       "      <td>2</td>\n",
       "      <td>2017</td>\n",
       "    </tr>\n",
       "    <tr>\n",
       "      <th>2</th>\n",
       "      <td>2017020762</td>\n",
       "      <td>7</td>\n",
       "      <td>3</td>\n",
       "      <td>898</td>\n",
       "      <td>2</td>\n",
       "      <td>1</td>\n",
       "      <td>False</td>\n",
       "      <td>1</td>\n",
       "      <td>2017</td>\n",
       "    </tr>\n",
       "    <tr>\n",
       "      <th>3</th>\n",
       "      <td>2017020762</td>\n",
       "      <td>1</td>\n",
       "      <td>3</td>\n",
       "      <td>1194</td>\n",
       "      <td>3</td>\n",
       "      <td>1</td>\n",
       "      <td>True</td>\n",
       "      <td>2</td>\n",
       "      <td>2017</td>\n",
       "    </tr>\n",
       "    <tr>\n",
       "      <th>4</th>\n",
       "      <td>2015020565</td>\n",
       "      <td>8</td>\n",
       "      <td>1</td>\n",
       "      <td>74</td>\n",
       "      <td>1</td>\n",
       "      <td>0</td>\n",
       "      <td>True</td>\n",
       "      <td>1</td>\n",
       "      <td>2015</td>\n",
       "    </tr>\n",
       "  </tbody>\n",
       "</table>\n",
       "</div>"
      ],
      "text/plain": [
       "      game_id  team_id_for  period  periodTime  goals_away  goals_home    won  \\\n",
       "0  2017020762            1       2         349           1           0   True   \n",
       "1  2017020762            1       3         331           2           0   True   \n",
       "2  2017020762            7       3         898           2           1  False   \n",
       "3  2017020762            1       3        1194           3           1   True   \n",
       "4  2015020565            8       1          74           1           0   True   \n",
       "\n",
       "   goals_diff  year  \n",
       "0           1  2017  \n",
       "1           2  2017  \n",
       "2           1  2017  \n",
       "3           2  2017  \n",
       "4           1  2015  "
      ]
     },
     "execution_count": 20,
     "metadata": {},
     "output_type": "execute_result"
    }
   ],
   "source": [
    "# The last thing we will do is add a 'year' column since we would like to analyze the changes over time.\n",
    "\n",
    "# The first four digits of the game_id column correspond to the year the season started.\n",
    "\n",
    "# Since NHL rule changes do not occur mid year, any changes in rules will only be reflected on a year-by-year basis.\n",
    "\n",
    "data['year'] = data['game_id'].apply(str).str.slice(stop=4).apply(int)\n",
    "\n",
    "data.head()"
   ]
  },
  {
   "cell_type": "code",
   "execution_count": 21,
   "metadata": {},
   "outputs": [
    {
     "data": {
      "text/plain": [
       "array([2000, 2001, 2002, 2003, 2005, 2006, 2007, 2008, 2009, 2010, 2011,\n",
       "       2012, 2013, 2014, 2015, 2016, 2017, 2018, 2019], dtype=int64)"
      ]
     },
     "execution_count": 21,
     "metadata": {},
     "output_type": "execute_result"
    }
   ],
   "source": [
    "np.sort(data['year'].unique()) # Nothing strange. There was a lockout for the 2004 season, so thats why it's missing."
   ]
  },
  {
   "cell_type": "code",
   "execution_count": 22,
   "metadata": {},
   "outputs": [
    {
     "name": "stdout",
     "output_type": "stream",
     "text": [
      "<class 'pandas.core.frame.DataFrame'>\n",
      "Int64Index: 128630 entries, 0 to 131617\n",
      "Data columns (total 9 columns):\n",
      " #   Column       Non-Null Count   Dtype\n",
      "---  ------       --------------   -----\n",
      " 0   game_id      128630 non-null  int64\n",
      " 1   team_id_for  128630 non-null  int64\n",
      " 2   period       128630 non-null  int64\n",
      " 3   periodTime   128630 non-null  int64\n",
      " 4   goals_away   128630 non-null  int64\n",
      " 5   goals_home   128630 non-null  int64\n",
      " 6   won          128630 non-null  bool \n",
      " 7   goals_diff   128630 non-null  int64\n",
      " 8   year         128630 non-null  int64\n",
      "dtypes: bool(1), int64(8)\n",
      "memory usage: 9.0 MB\n"
     ]
    }
   ],
   "source": [
    "# Let's make sure there are no null values.\n",
    "\n",
    "data.info()"
   ]
  },
  {
   "cell_type": "markdown",
   "metadata": {},
   "source": [
    "# Analyzing the First Goal Scored"
   ]
  },
  {
   "cell_type": "code",
   "execution_count": 23,
   "metadata": {},
   "outputs": [
    {
     "data": {
      "text/html": [
       "<div>\n",
       "<style scoped>\n",
       "    .dataframe tbody tr th:only-of-type {\n",
       "        vertical-align: middle;\n",
       "    }\n",
       "\n",
       "    .dataframe tbody tr th {\n",
       "        vertical-align: top;\n",
       "    }\n",
       "\n",
       "    .dataframe thead th {\n",
       "        text-align: right;\n",
       "    }\n",
       "</style>\n",
       "<table border=\"1\" class=\"dataframe\">\n",
       "  <thead>\n",
       "    <tr style=\"text-align: right;\">\n",
       "      <th></th>\n",
       "      <th>game_id</th>\n",
       "      <th>team_id_for</th>\n",
       "      <th>period</th>\n",
       "      <th>periodTime</th>\n",
       "      <th>goals_away</th>\n",
       "      <th>goals_home</th>\n",
       "      <th>won</th>\n",
       "      <th>goals_diff</th>\n",
       "      <th>year</th>\n",
       "    </tr>\n",
       "  </thead>\n",
       "  <tbody>\n",
       "    <tr>\n",
       "      <th>0</th>\n",
       "      <td>2017020762</td>\n",
       "      <td>1</td>\n",
       "      <td>2</td>\n",
       "      <td>349</td>\n",
       "      <td>1</td>\n",
       "      <td>0</td>\n",
       "      <td>True</td>\n",
       "      <td>1</td>\n",
       "      <td>2017</td>\n",
       "    </tr>\n",
       "    <tr>\n",
       "      <th>4</th>\n",
       "      <td>2015020565</td>\n",
       "      <td>8</td>\n",
       "      <td>1</td>\n",
       "      <td>74</td>\n",
       "      <td>1</td>\n",
       "      <td>0</td>\n",
       "      <td>True</td>\n",
       "      <td>1</td>\n",
       "      <td>2015</td>\n",
       "    </tr>\n",
       "    <tr>\n",
       "      <th>10</th>\n",
       "      <td>2015020798</td>\n",
       "      <td>2</td>\n",
       "      <td>1</td>\n",
       "      <td>56</td>\n",
       "      <td>1</td>\n",
       "      <td>0</td>\n",
       "      <td>True</td>\n",
       "      <td>1</td>\n",
       "      <td>2015</td>\n",
       "    </tr>\n",
       "    <tr>\n",
       "      <th>16</th>\n",
       "      <td>2017021107</td>\n",
       "      <td>23</td>\n",
       "      <td>1</td>\n",
       "      <td>648</td>\n",
       "      <td>0</td>\n",
       "      <td>1</td>\n",
       "      <td>False</td>\n",
       "      <td>1</td>\n",
       "      <td>2017</td>\n",
       "    </tr>\n",
       "    <tr>\n",
       "      <th>24</th>\n",
       "      <td>2017021152</td>\n",
       "      <td>28</td>\n",
       "      <td>1</td>\n",
       "      <td>472</td>\n",
       "      <td>0</td>\n",
       "      <td>1</td>\n",
       "      <td>True</td>\n",
       "      <td>1</td>\n",
       "      <td>2017</td>\n",
       "    </tr>\n",
       "  </tbody>\n",
       "</table>\n",
       "</div>"
      ],
      "text/plain": [
       "       game_id  team_id_for  period  periodTime  goals_away  goals_home  \\\n",
       "0   2017020762            1       2         349           1           0   \n",
       "4   2015020565            8       1          74           1           0   \n",
       "10  2015020798            2       1          56           1           0   \n",
       "16  2017021107           23       1         648           0           1   \n",
       "24  2017021152           28       1         472           0           1   \n",
       "\n",
       "      won  goals_diff  year  \n",
       "0    True           1  2017  \n",
       "4    True           1  2015  \n",
       "10   True           1  2015  \n",
       "16  False           1  2017  \n",
       "24   True           1  2017  "
      ]
     },
     "execution_count": 23,
     "metadata": {},
     "output_type": "execute_result"
    }
   ],
   "source": [
    "# We will now look into winning vs scoring the first goal.\n",
    "\n",
    "# Note: The easiest way to get this from the original dataframe is by the condition goals_away+goals_home = 1\n",
    "\n",
    "first_goal = data[(data['goals_away'] + data['goals_home']) == 1]\n",
    "\n",
    "first_goal.head() # Unless a game ended 0-0, this will include all game_ids."
   ]
  },
  {
   "cell_type": "code",
   "execution_count": 24,
   "metadata": {},
   "outputs": [
    {
     "data": {
      "image/png": "[encoded data removed]",
      "text/plain": [
       "<Figure size 432x288 with 1 Axes>"
      ]
     },
     "metadata": {
      "needs_background": "light"
     },
     "output_type": "display_data"
    }
   ],
   "source": [
    "# We will first look at purely wins vs losses.\n",
    "\n",
    "sns.countplot(data=first_goal, x='won')\n",
    "\n",
    "plt.title('Wins vs Losses for the Team that Scored First')\n",
    "\n",
    "plt.show()"
   ]
  },
  {
   "cell_type": "code",
   "execution_count": 25,
   "metadata": {},
   "outputs": [
    {
     "name": "stdout",
     "output_type": "stream",
     "text": [
      "Percent of teams winning when scoring first: 66.763%\n"
     ]
    }
   ],
   "source": [
    "# This is actually a much larger difference than I was expecting. Let's see the actual percentage.\n",
    "\n",
    "perc_won = first_goal['won'].value_counts()[True] / len(first_goal) * 100\n",
    "\n",
    "print('Percent of teams winning when scoring first: ' + str(round(perc_won, 3)) + '%')"
   ]
  },
  {
   "cell_type": "code",
   "execution_count": 26,
   "metadata": {},
   "outputs": [
    {
     "data": {
      "image/png": "[encoded data removed]",
      "text/plain": [
       "<Figure size 576x432 with 1 Axes>"
      ]
     },
     "metadata": {
      "needs_background": "light"
     },
     "output_type": "display_data"
    }
   ],
   "source": [
    "# As we can see, scoring the first goal wins at about a 2:1 ratio. The first goal is very important!\n",
    "\n",
    "# We will now look at comparing this when the first goal occurs\n",
    "\n",
    "plt.figure(figsize=(8,6))\n",
    "sns.countplot(data=first_goal, x='period', hue='won')\n",
    "\n",
    "plt.title('Wins/Losses for Team Scoring First by Period')\n",
    "plt.legend(loc=(1.05, 0.5))\n",
    "plt.show()"
   ]
  },
  {
   "cell_type": "code",
   "execution_count": 32,
   "metadata": {},
   "outputs": [
    {
     "name": "stdout",
     "output_type": "stream",
     "text": [
      "Percent of winning with scoring first goal of game in period 1: 65.73650015976142\n",
      "Percent of winning with scoring first goal of game in period 2: 69.27272727272728\n",
      "Percent of winning with scoring first goal of game in period 3: 78.94736842105263\n"
     ]
    }
   ],
   "source": [
    "# Let's look at the percentages. Note that period 4+ would represent overtime, so scoring the first goal\n",
    "# then would automatically result in a win, so we will not look at that period.\n",
    "\n",
    "period_1 = (first_goal['period'] == 1)\n",
    "period_2 = (first_goal['period'] == 2)\n",
    "period_3 = (first_goal['period'] == 3)\n",
    "\n",
    "won = (first_goal['won'] == True)\n",
    "\n",
    "perc_per1 = len(first_goal[period_1 & won]) / len(first_goal[period_1]) * 100\n",
    "perc_per2 = len(first_goal[period_2 & won]) / len(first_goal[period_2]) * 100\n",
    "perc_per3 = len(first_goal[period_3 & won]) / len(first_goal[period_3]) * 100\n",
    "\n",
    "print('Percent of winning with scoring first goal of game in period 1: ' + str(perc_per1))\n",
    "print('Percent of winning with scoring first goal of game in period 2: ' + str(perc_per2))\n",
    "print('Percent of winning with scoring first goal of game in period 3: ' + str(perc_per3))\n"
   ]
  },
  {
   "cell_type": "code",
   "execution_count": 33,
   "metadata": {},
   "outputs": [
    {
     "data": {
      "image/png": "[encoded data removed]",
      "text/plain": [
       "<Figure size 576x432 with 1 Axes>"
      ]
     },
     "metadata": {
      "needs_background": "light"
     },
     "output_type": "display_data"
    }
   ],
   "source": [
    "# We will look at the percentages won by year and visualize.\n",
    "\n",
    "years = first_goal['year'].unique().tolist()\n",
    "percentages = []\n",
    "\n",
    "for year in years:\n",
    "    year_cond = first_goal['year'] == year\n",
    "    won_cond = first_goal['won'] == True\n",
    "    \n",
    "    denom = len(first_goal[year_cond])\n",
    "    num = len(first_goal[year_cond & won_cond])\n",
    "    \n",
    "    perc = num / denom * 100\n",
    "    \n",
    "    percentages.append(perc)\n",
    "    \n",
    "    \n",
    "plt.figure(figsize=(8,6))\n",
    "\n",
    "sns.barplot(x=years, y=percentages, palette='Blues')\n",
    "\n",
    "plt.xticks(rotation=90)\n",
    "plt.title('Percentage of Winning Scoring First by Year')\n",
    "plt.show()"
   ]
  },
  {
   "cell_type": "markdown",
   "metadata": {},
   "source": [
    "We do see lower numbers  prior to the 2005 season. This is probably due to ties being recorded prior to this season, so a team that went up 1-0 could much more easily get tied and then the game ends. It has stayed relatively even since then"
   ]
  },
  {
   "cell_type": "markdown",
   "metadata": {},
   "source": [
    "# Analyzing two goal leads"
   ]
  },
  {
   "cell_type": "code",
   "execution_count": 34,
   "metadata": {},
   "outputs": [
    {
     "data": {
      "text/html": [
       "<div>\n",
       "<style scoped>\n",
       "    .dataframe tbody tr th:only-of-type {\n",
       "        vertical-align: middle;\n",
       "    }\n",
       "\n",
       "    .dataframe tbody tr th {\n",
       "        vertical-align: top;\n",
       "    }\n",
       "\n",
       "    .dataframe thead th {\n",
       "        text-align: right;\n",
       "    }\n",
       "</style>\n",
       "<table border=\"1\" class=\"dataframe\">\n",
       "  <thead>\n",
       "    <tr style=\"text-align: right;\">\n",
       "      <th></th>\n",
       "      <th>game_id</th>\n",
       "      <th>team_id_for</th>\n",
       "      <th>period</th>\n",
       "      <th>periodTime</th>\n",
       "      <th>goals_away</th>\n",
       "      <th>goals_home</th>\n",
       "      <th>won</th>\n",
       "      <th>goals_diff</th>\n",
       "      <th>year</th>\n",
       "    </tr>\n",
       "  </thead>\n",
       "  <tbody>\n",
       "    <tr>\n",
       "      <th>1</th>\n",
       "      <td>2017020762</td>\n",
       "      <td>1</td>\n",
       "      <td>3</td>\n",
       "      <td>331</td>\n",
       "      <td>2</td>\n",
       "      <td>0</td>\n",
       "      <td>True</td>\n",
       "      <td>2</td>\n",
       "      <td>2017</td>\n",
       "    </tr>\n",
       "    <tr>\n",
       "      <th>3</th>\n",
       "      <td>2017020762</td>\n",
       "      <td>1</td>\n",
       "      <td>3</td>\n",
       "      <td>1194</td>\n",
       "      <td>3</td>\n",
       "      <td>1</td>\n",
       "      <td>True</td>\n",
       "      <td>2</td>\n",
       "      <td>2017</td>\n",
       "    </tr>\n",
       "    <tr>\n",
       "      <th>5</th>\n",
       "      <td>2015020565</td>\n",
       "      <td>8</td>\n",
       "      <td>2</td>\n",
       "      <td>120</td>\n",
       "      <td>2</td>\n",
       "      <td>0</td>\n",
       "      <td>True</td>\n",
       "      <td>2</td>\n",
       "      <td>2015</td>\n",
       "    </tr>\n",
       "    <tr>\n",
       "      <th>7</th>\n",
       "      <td>2015020565</td>\n",
       "      <td>6</td>\n",
       "      <td>3</td>\n",
       "      <td>236</td>\n",
       "      <td>3</td>\n",
       "      <td>1</td>\n",
       "      <td>False</td>\n",
       "      <td>2</td>\n",
       "      <td>2015</td>\n",
       "    </tr>\n",
       "    <tr>\n",
       "      <th>19</th>\n",
       "      <td>2017021107</td>\n",
       "      <td>28</td>\n",
       "      <td>2</td>\n",
       "      <td>107</td>\n",
       "      <td>3</td>\n",
       "      <td>1</td>\n",
       "      <td>True</td>\n",
       "      <td>2</td>\n",
       "      <td>2017</td>\n",
       "    </tr>\n",
       "  </tbody>\n",
       "</table>\n",
       "</div>"
      ],
      "text/plain": [
       "       game_id  team_id_for  period  periodTime  goals_away  goals_home  \\\n",
       "1   2017020762            1       3         331           2           0   \n",
       "3   2017020762            1       3        1194           3           1   \n",
       "5   2015020565            8       2         120           2           0   \n",
       "7   2015020565            6       3         236           3           1   \n",
       "19  2017021107           28       2         107           3           1   \n",
       "\n",
       "      won  goals_diff  year  \n",
       "1    True           2  2017  \n",
       "3    True           2  2017  \n",
       "5    True           2  2015  \n",
       "7   False           2  2015  \n",
       "19   True           2  2017  "
      ]
     },
     "execution_count": 34,
     "metadata": {},
     "output_type": "execute_result"
    }
   ],
   "source": [
    "#We will now focus only on games that had a goal_diff of 2 at someone point, so\n",
    "# games where the max(goal_diff) == 1 will not be considering.\n",
    "\n",
    "two_goal_games = data[data['goals_diff'] == 2]\n",
    "two_goal_games.head()"
   ]
  },
  {
   "cell_type": "markdown",
   "metadata": {},
   "source": [
    "Because we only want to count the win/loss for the team that achieved the two goal lead first, we need to sort by the period and periodTime. For simplicity, we will also sort by the game_id to make it easier to read."
   ]
  },
  {
   "cell_type": "code",
   "execution_count": 35,
   "metadata": {},
   "outputs": [
    {
     "data": {
      "text/html": [
       "<div>\n",
       "<style scoped>\n",
       "    .dataframe tbody tr th:only-of-type {\n",
       "        vertical-align: middle;\n",
       "    }\n",
       "\n",
       "    .dataframe tbody tr th {\n",
       "        vertical-align: top;\n",
       "    }\n",
       "\n",
       "    .dataframe thead th {\n",
       "        text-align: right;\n",
       "    }\n",
       "</style>\n",
       "<table border=\"1\" class=\"dataframe\">\n",
       "  <thead>\n",
       "    <tr style=\"text-align: right;\">\n",
       "      <th></th>\n",
       "      <th>game_id</th>\n",
       "      <th>team_id_for</th>\n",
       "      <th>period</th>\n",
       "      <th>periodTime</th>\n",
       "      <th>goals_away</th>\n",
       "      <th>goals_home</th>\n",
       "      <th>won</th>\n",
       "      <th>goals_diff</th>\n",
       "      <th>year</th>\n",
       "    </tr>\n",
       "  </thead>\n",
       "  <tbody>\n",
       "    <tr>\n",
       "      <th>0</th>\n",
       "      <td>2000020001</td>\n",
       "      <td>25</td>\n",
       "      <td>1</td>\n",
       "      <td>1199</td>\n",
       "      <td>0</td>\n",
       "      <td>2</td>\n",
       "      <td>False</td>\n",
       "      <td>2</td>\n",
       "      <td>2000</td>\n",
       "    </tr>\n",
       "    <tr>\n",
       "      <th>1</th>\n",
       "      <td>2000020002</td>\n",
       "      <td>9</td>\n",
       "      <td>1</td>\n",
       "      <td>743</td>\n",
       "      <td>2</td>\n",
       "      <td>0</td>\n",
       "      <td>False</td>\n",
       "      <td>2</td>\n",
       "      <td>2000</td>\n",
       "    </tr>\n",
       "    <tr>\n",
       "      <th>2</th>\n",
       "      <td>2000020003</td>\n",
       "      <td>7</td>\n",
       "      <td>1</td>\n",
       "      <td>906</td>\n",
       "      <td>0</td>\n",
       "      <td>2</td>\n",
       "      <td>True</td>\n",
       "      <td>2</td>\n",
       "      <td>2000</td>\n",
       "    </tr>\n",
       "    <tr>\n",
       "      <th>3</th>\n",
       "      <td>2000020003</td>\n",
       "      <td>7</td>\n",
       "      <td>3</td>\n",
       "      <td>73</td>\n",
       "      <td>1</td>\n",
       "      <td>3</td>\n",
       "      <td>True</td>\n",
       "      <td>2</td>\n",
       "      <td>2000</td>\n",
       "    </tr>\n",
       "    <tr>\n",
       "      <th>4</th>\n",
       "      <td>2000020003</td>\n",
       "      <td>16</td>\n",
       "      <td>3</td>\n",
       "      <td>940</td>\n",
       "      <td>2</td>\n",
       "      <td>4</td>\n",
       "      <td>False</td>\n",
       "      <td>2</td>\n",
       "      <td>2000</td>\n",
       "    </tr>\n",
       "  </tbody>\n",
       "</table>\n",
       "</div>"
      ],
      "text/plain": [
       "      game_id  team_id_for  period  periodTime  goals_away  goals_home    won  \\\n",
       "0  2000020001           25       1        1199           0           2  False   \n",
       "1  2000020002            9       1         743           2           0  False   \n",
       "2  2000020003            7       1         906           0           2   True   \n",
       "3  2000020003            7       3          73           1           3   True   \n",
       "4  2000020003           16       3         940           2           4  False   \n",
       "\n",
       "   goals_diff  year  \n",
       "0           2  2000  \n",
       "1           2  2000  \n",
       "2           2  2000  \n",
       "3           2  2000  \n",
       "4           2  2000  "
      ]
     },
     "execution_count": 35,
     "metadata": {},
     "output_type": "execute_result"
    }
   ],
   "source": [
    "two_goal_games = two_goal_games.sort_values(['game_id', 'period', 'periodTime'])\n",
    "\n",
    "# It it is best to reset_index after sort, so everything is in order\n",
    "two_goal_games = two_goal_games.reset_index()\n",
    "two_goal_games = two_goal_games.drop('index', axis=1)\n",
    "two_goal_games.head()"
   ]
  },
  {
   "cell_type": "markdown",
   "metadata": {},
   "source": [
    "Only want to keep the top one for each game_id. Find all unique game_id's here. Easiest way may be to make look at the series with 'game_id' column, drop the duplicates except the first, then record those indices and use them."
   ]
  },
  {
   "cell_type": "code",
   "execution_count": 36,
   "metadata": {},
   "outputs": [
    {
     "data": {
      "text/html": [
       "<div>\n",
       "<style scoped>\n",
       "    .dataframe tbody tr th:only-of-type {\n",
       "        vertical-align: middle;\n",
       "    }\n",
       "\n",
       "    .dataframe tbody tr th {\n",
       "        vertical-align: top;\n",
       "    }\n",
       "\n",
       "    .dataframe thead th {\n",
       "        text-align: right;\n",
       "    }\n",
       "</style>\n",
       "<table border=\"1\" class=\"dataframe\">\n",
       "  <thead>\n",
       "    <tr style=\"text-align: right;\">\n",
       "      <th></th>\n",
       "      <th>game_id</th>\n",
       "      <th>team_id_for</th>\n",
       "      <th>period</th>\n",
       "      <th>periodTime</th>\n",
       "      <th>goals_away</th>\n",
       "      <th>goals_home</th>\n",
       "      <th>won</th>\n",
       "      <th>goals_diff</th>\n",
       "      <th>year</th>\n",
       "    </tr>\n",
       "  </thead>\n",
       "  <tbody>\n",
       "    <tr>\n",
       "      <th>0</th>\n",
       "      <td>2000020001</td>\n",
       "      <td>25</td>\n",
       "      <td>1</td>\n",
       "      <td>1199</td>\n",
       "      <td>0</td>\n",
       "      <td>2</td>\n",
       "      <td>False</td>\n",
       "      <td>2</td>\n",
       "      <td>2000</td>\n",
       "    </tr>\n",
       "    <tr>\n",
       "      <th>1</th>\n",
       "      <td>2000020002</td>\n",
       "      <td>9</td>\n",
       "      <td>1</td>\n",
       "      <td>743</td>\n",
       "      <td>2</td>\n",
       "      <td>0</td>\n",
       "      <td>False</td>\n",
       "      <td>2</td>\n",
       "      <td>2000</td>\n",
       "    </tr>\n",
       "    <tr>\n",
       "      <th>2</th>\n",
       "      <td>2000020003</td>\n",
       "      <td>7</td>\n",
       "      <td>1</td>\n",
       "      <td>906</td>\n",
       "      <td>0</td>\n",
       "      <td>2</td>\n",
       "      <td>True</td>\n",
       "      <td>2</td>\n",
       "      <td>2000</td>\n",
       "    </tr>\n",
       "    <tr>\n",
       "      <th>5</th>\n",
       "      <td>2000020004</td>\n",
       "      <td>4</td>\n",
       "      <td>3</td>\n",
       "      <td>1007</td>\n",
       "      <td>3</td>\n",
       "      <td>5</td>\n",
       "      <td>True</td>\n",
       "      <td>2</td>\n",
       "      <td>2000</td>\n",
       "    </tr>\n",
       "    <tr>\n",
       "      <th>6</th>\n",
       "      <td>2000020005</td>\n",
       "      <td>20</td>\n",
       "      <td>1</td>\n",
       "      <td>849</td>\n",
       "      <td>1</td>\n",
       "      <td>3</td>\n",
       "      <td>False</td>\n",
       "      <td>2</td>\n",
       "      <td>2000</td>\n",
       "    </tr>\n",
       "  </tbody>\n",
       "</table>\n",
       "</div>"
      ],
      "text/plain": [
       "      game_id  team_id_for  period  periodTime  goals_away  goals_home    won  \\\n",
       "0  2000020001           25       1        1199           0           2  False   \n",
       "1  2000020002            9       1         743           2           0  False   \n",
       "2  2000020003            7       1         906           0           2   True   \n",
       "5  2000020004            4       3        1007           3           5   True   \n",
       "6  2000020005           20       1         849           1           3  False   \n",
       "\n",
       "   goals_diff  year  \n",
       "0           2  2000  \n",
       "1           2  2000  \n",
       "2           2  2000  \n",
       "5           2  2000  \n",
       "6           2  2000  "
      ]
     },
     "execution_count": 36,
     "metadata": {},
     "output_type": "execute_result"
    }
   ],
   "source": [
    "ids = two_goal_games['game_id'].drop_duplicates(keep='first') # get unique game_ids\n",
    "indices = ids.index.tolist() # get their indices and put in list\n",
    "\n",
    "final_two_goal_df = two_goal_games.iloc[indices] # create final two goal df \n",
    "final_two_goal_df.head()"
   ]
  },
  {
   "cell_type": "markdown",
   "metadata": {},
   "source": [
    "The above df shows the games where at least a two goal lead was obtained, only showing the first instance it happened, the time it happened, and whether the team lost or won, without duplicates. We are now ready to analyze."
   ]
  },
  {
   "cell_type": "code",
   "execution_count": 37,
   "metadata": {},
   "outputs": [
    {
     "data": {
      "image/png": "[encoded data removed]",
      "text/plain": [
       "<Figure size 432x288 with 1 Axes>"
      ]
     },
     "metadata": {
      "needs_background": "light"
     },
     "output_type": "display_data"
    }
   ],
   "source": [
    "# We will first look purely at win vs loss.\n",
    "\n",
    "sns.countplot(data=final_two_goal_df, x='won')\n",
    "\n",
    "plt.title('Wins and Losses for the Team with First Two Goal Lead')\n",
    "\n",
    "plt.show()"
   ]
  },
  {
   "cell_type": "code",
   "execution_count": 38,
   "metadata": {},
   "outputs": [
    {
     "name": "stdout",
     "output_type": "stream",
     "text": [
      "Percentage of teams with first two goal lead that won: 87.332\n"
     ]
    }
   ],
   "source": [
    "# We can there is a huge difference here. let's calculate the exact proportions\n",
    "\n",
    "perc_won = len(final_two_goal_df[final_two_goal_df['won'] == True]) / len(final_two_goal_df) * 100\n",
    "\n",
    "print('Percentage of teams with first two goal lead that won: ' + str(round(perc_won, 3)))"
   ]
  },
  {
   "cell_type": "markdown",
   "metadata": {},
   "source": [
    "The above shows a very interesting outcome in that roughly 87% of teams that obtain the first two goal lead end up winning.\n",
    "\n",
    "For the sake of interest, let's compare this to the time it happens in the game by period only."
   ]
  },
  {
   "cell_type": "code",
   "execution_count": 39,
   "metadata": {},
   "outputs": [
    {
     "data": {
      "image/png": "[encoded data removed]",
      "text/plain": [
       "<Figure size 432x288 with 1 Axes>"
      ]
     },
     "metadata": {
      "needs_background": "light"
     },
     "output_type": "display_data"
    }
   ],
   "source": [
    "sns.countplot(data=final_two_goal_df, x='period', hue='won')\n",
    "\n",
    "plt.title('Wins and Losses vs Period of First Two Goal Lead')\n",
    "\n",
    "plt.legend(loc=(1.05,0.5))\n",
    "\n",
    "plt.show()"
   ]
  },
  {
   "cell_type": "markdown",
   "metadata": {},
   "source": [
    "As we would expect, the later this two goal lead occurs, chance of winning goes up. We can compute each of these exactly."
   ]
  },
  {
   "cell_type": "code",
   "execution_count": 40,
   "metadata": {},
   "outputs": [
    {
     "name": "stdout",
     "output_type": "stream",
     "text": [
      "Percent of winning with first two goal lead in period 1: 81.4845292955892\n",
      "Percent of winning with first two goal lead in period 2: 86.19301021141953\n",
      "Percent of winning with first two goal lead in period 3: 96.70045287901661\n"
     ]
    }
   ],
   "source": [
    "period_1 = final_two_goal_df['period'] == 1\n",
    "period_2 = final_two_goal_df['period'] == 2\n",
    "period_3 = final_two_goal_df['period'] == 3\n",
    "\n",
    "won = final_two_goal_df['won'] == True\n",
    "\n",
    "perc_per1 = len(final_two_goal_df[period_1 & won]) / len(final_two_goal_df[period_1]) * 100\n",
    "perc_per2 = len(final_two_goal_df[period_2 & won]) / len(final_two_goal_df[period_2]) * 100\n",
    "perc_per3 = len(final_two_goal_df[period_3 & won]) / len(final_two_goal_df[period_3]) * 100\n",
    "\n",
    "print('Percent of winning with first two goal lead in period 1: ' + str(perc_per1))\n",
    "print('Percent of winning with first two goal lead in period 2: ' + str(perc_per2))\n",
    "print('Percent of winning with first two goal lead in period 3: ' + str(perc_per3))\n"
   ]
  },
  {
   "cell_type": "markdown",
   "metadata": {},
   "source": [
    "Obtaining the first two goal lead of the game in the third period, if it happens, is a very strong indication of winning a game, but we can see that overall, obtaining the first two goal lead shows a very large chance of winning.\n",
    "\n",
    "Out of interest, we can break this down further by year to see if anything changes."
   ]
  },
  {
   "cell_type": "code",
   "execution_count": 41,
   "metadata": {},
   "outputs": [
    {
     "data": {
      "image/png": "[encoded data removed]",
      "text/plain": [
       "<Figure size 576x432 with 1 Axes>"
      ]
     },
     "metadata": {
      "needs_background": "light"
     },
     "output_type": "display_data"
    }
   ],
   "source": [
    "# It looks fairly consistent over time.\n",
    "\n",
    "# There was a lock out for the 2004 season, so it never happened.\n",
    "\n",
    "# For the 2012 season, it got a late start due to a hold out\n",
    "\n",
    "# Let's find the percentages per year like above.\n",
    "years = final_two_goal_df['year'].unique().tolist()\n",
    "percentages = []\n",
    "\n",
    "for year in years:\n",
    "    year_cond = final_two_goal_df['year'] == year\n",
    "    won_cond = final_two_goal_df['won'] == True\n",
    "    \n",
    "    denom = len(final_two_goal_df[year_cond])\n",
    "    num = len(final_two_goal_df[year_cond & won_cond])\n",
    "    \n",
    "    perc = num / denom * 100\n",
    "    \n",
    "    percentages.append(perc)\n",
    "    \n",
    "\n",
    "plt.figure(figsize=(8,6))\n",
    "\n",
    "sns.barplot(x=years, y=percentages, palette='Blues')\n",
    "\n",
    "plt.xticks(rotation=90)\n",
    "plt.title('Percentage of Winning with First Two Goal Lead by Year')\n",
    "plt.show()"
   ]
  },
  {
   "cell_type": "markdown",
   "metadata": {},
   "source": [
    "As we can see, over the years, pretty consistently the first team that takes a two goal lead wins between 80-90% of the games.\n",
    "\n",
    "We also saw from a previous chart that the percentage goes up the later the two goal lead was take, by period, although the difference wasn't too drastic."
   ]
  },
  {
   "cell_type": "markdown",
   "metadata": {},
   "source": [
    "# Three Goal Lead Analysis"
   ]
  },
  {
   "cell_type": "code",
   "execution_count": 42,
   "metadata": {},
   "outputs": [
    {
     "data": {
      "text/html": [
       "<div>\n",
       "<style scoped>\n",
       "    .dataframe tbody tr th:only-of-type {\n",
       "        vertical-align: middle;\n",
       "    }\n",
       "\n",
       "    .dataframe tbody tr th {\n",
       "        vertical-align: top;\n",
       "    }\n",
       "\n",
       "    .dataframe thead th {\n",
       "        text-align: right;\n",
       "    }\n",
       "</style>\n",
       "<table border=\"1\" class=\"dataframe\">\n",
       "  <thead>\n",
       "    <tr style=\"text-align: right;\">\n",
       "      <th></th>\n",
       "      <th>game_id</th>\n",
       "      <th>team_id_for</th>\n",
       "      <th>period</th>\n",
       "      <th>periodTime</th>\n",
       "      <th>goals_away</th>\n",
       "      <th>goals_home</th>\n",
       "      <th>won</th>\n",
       "      <th>goals_diff</th>\n",
       "      <th>year</th>\n",
       "    </tr>\n",
       "  </thead>\n",
       "  <tbody>\n",
       "    <tr>\n",
       "      <th>6</th>\n",
       "      <td>2015020565</td>\n",
       "      <td>8</td>\n",
       "      <td>2</td>\n",
       "      <td>1040</td>\n",
       "      <td>3</td>\n",
       "      <td>0</td>\n",
       "      <td>True</td>\n",
       "      <td>3</td>\n",
       "      <td>2015</td>\n",
       "    </tr>\n",
       "    <tr>\n",
       "      <th>8</th>\n",
       "      <td>2015020565</td>\n",
       "      <td>8</td>\n",
       "      <td>3</td>\n",
       "      <td>529</td>\n",
       "      <td>4</td>\n",
       "      <td>1</td>\n",
       "      <td>True</td>\n",
       "      <td>3</td>\n",
       "      <td>2015</td>\n",
       "    </tr>\n",
       "    <tr>\n",
       "      <th>28</th>\n",
       "      <td>2017021152</td>\n",
       "      <td>28</td>\n",
       "      <td>3</td>\n",
       "      <td>609</td>\n",
       "      <td>1</td>\n",
       "      <td>4</td>\n",
       "      <td>True</td>\n",
       "      <td>3</td>\n",
       "      <td>2017</td>\n",
       "    </tr>\n",
       "    <tr>\n",
       "      <th>39</th>\n",
       "      <td>2017020904</td>\n",
       "      <td>23</td>\n",
       "      <td>1</td>\n",
       "      <td>710</td>\n",
       "      <td>0</td>\n",
       "      <td>3</td>\n",
       "      <td>True</td>\n",
       "      <td>3</td>\n",
       "      <td>2017</td>\n",
       "    </tr>\n",
       "    <tr>\n",
       "      <th>48</th>\n",
       "      <td>2016020562</td>\n",
       "      <td>19</td>\n",
       "      <td>3</td>\n",
       "      <td>1126</td>\n",
       "      <td>1</td>\n",
       "      <td>4</td>\n",
       "      <td>True</td>\n",
       "      <td>3</td>\n",
       "      <td>2016</td>\n",
       "    </tr>\n",
       "  </tbody>\n",
       "</table>\n",
       "</div>"
      ],
      "text/plain": [
       "       game_id  team_id_for  period  periodTime  goals_away  goals_home   won  \\\n",
       "6   2015020565            8       2        1040           3           0  True   \n",
       "8   2015020565            8       3         529           4           1  True   \n",
       "28  2017021152           28       3         609           1           4  True   \n",
       "39  2017020904           23       1         710           0           3  True   \n",
       "48  2016020562           19       3        1126           1           4  True   \n",
       "\n",
       "    goals_diff  year  \n",
       "6            3  2015  \n",
       "8            3  2015  \n",
       "28           3  2017  \n",
       "39           3  2017  \n",
       "48           3  2016  "
      ]
     },
     "execution_count": 42,
     "metadata": {},
     "output_type": "execute_result"
    }
   ],
   "source": [
    "three_goal_games = data.loc[data['goals_diff'] == 3]\n",
    "\n",
    "three_goal_games.head()"
   ]
  },
  {
   "cell_type": "code",
   "execution_count": 43,
   "metadata": {},
   "outputs": [
    {
     "data": {
      "text/html": [
       "<div>\n",
       "<style scoped>\n",
       "    .dataframe tbody tr th:only-of-type {\n",
       "        vertical-align: middle;\n",
       "    }\n",
       "\n",
       "    .dataframe tbody tr th {\n",
       "        vertical-align: top;\n",
       "    }\n",
       "\n",
       "    .dataframe thead th {\n",
       "        text-align: right;\n",
       "    }\n",
       "</style>\n",
       "<table border=\"1\" class=\"dataframe\">\n",
       "  <thead>\n",
       "    <tr style=\"text-align: right;\">\n",
       "      <th></th>\n",
       "      <th>game_id</th>\n",
       "      <th>team_id_for</th>\n",
       "      <th>period</th>\n",
       "      <th>periodTime</th>\n",
       "      <th>goals_away</th>\n",
       "      <th>goals_home</th>\n",
       "      <th>won</th>\n",
       "      <th>goals_diff</th>\n",
       "      <th>year</th>\n",
       "    </tr>\n",
       "  </thead>\n",
       "  <tbody>\n",
       "    <tr>\n",
       "      <th>0</th>\n",
       "      <td>2000020003</td>\n",
       "      <td>7</td>\n",
       "      <td>3</td>\n",
       "      <td>793</td>\n",
       "      <td>1</td>\n",
       "      <td>4</td>\n",
       "      <td>True</td>\n",
       "      <td>3</td>\n",
       "      <td>2000</td>\n",
       "    </tr>\n",
       "    <tr>\n",
       "      <th>1</th>\n",
       "      <td>2000020004</td>\n",
       "      <td>4</td>\n",
       "      <td>3</td>\n",
       "      <td>1185</td>\n",
       "      <td>3</td>\n",
       "      <td>6</td>\n",
       "      <td>True</td>\n",
       "      <td>3</td>\n",
       "      <td>2000</td>\n",
       "    </tr>\n",
       "    <tr>\n",
       "      <th>2</th>\n",
       "      <td>2000020006</td>\n",
       "      <td>27</td>\n",
       "      <td>2</td>\n",
       "      <td>949</td>\n",
       "      <td>1</td>\n",
       "      <td>4</td>\n",
       "      <td>True</td>\n",
       "      <td>3</td>\n",
       "      <td>2000</td>\n",
       "    </tr>\n",
       "    <tr>\n",
       "      <th>3</th>\n",
       "      <td>2000020007</td>\n",
       "      <td>1</td>\n",
       "      <td>2</td>\n",
       "      <td>299</td>\n",
       "      <td>2</td>\n",
       "      <td>5</td>\n",
       "      <td>True</td>\n",
       "      <td>3</td>\n",
       "      <td>2000</td>\n",
       "    </tr>\n",
       "    <tr>\n",
       "      <th>4</th>\n",
       "      <td>2000020007</td>\n",
       "      <td>1</td>\n",
       "      <td>3</td>\n",
       "      <td>237</td>\n",
       "      <td>3</td>\n",
       "      <td>6</td>\n",
       "      <td>True</td>\n",
       "      <td>3</td>\n",
       "      <td>2000</td>\n",
       "    </tr>\n",
       "  </tbody>\n",
       "</table>\n",
       "</div>"
      ],
      "text/plain": [
       "      game_id  team_id_for  period  periodTime  goals_away  goals_home   won  \\\n",
       "0  2000020003            7       3         793           1           4  True   \n",
       "1  2000020004            4       3        1185           3           6  True   \n",
       "2  2000020006           27       2         949           1           4  True   \n",
       "3  2000020007            1       2         299           2           5  True   \n",
       "4  2000020007            1       3         237           3           6  True   \n",
       "\n",
       "   goals_diff  year  \n",
       "0           3  2000  \n",
       "1           3  2000  \n",
       "2           3  2000  \n",
       "3           3  2000  \n",
       "4           3  2000  "
      ]
     },
     "execution_count": 43,
     "metadata": {},
     "output_type": "execute_result"
    }
   ],
   "source": [
    "# Like above, there can be multiple instances of three goal leads, so we will get rid of duplicates.\n",
    "\n",
    "# We will sort, reset the indices, then create our final df from the indices of the first instance\n",
    "# from the sorted df.\n",
    "\n",
    "three_goal_games = three_goal_games.sort_values(['game_id', 'period', 'periodTime'])\n",
    "\n",
    "three_goal_games = three_goal_games.reset_index()\n",
    "three_goal_games = three_goal_games.drop('index', axis=1)\n",
    "three_goal_games.head()"
   ]
  },
  {
   "cell_type": "code",
   "execution_count": 44,
   "metadata": {},
   "outputs": [
    {
     "data": {
      "text/html": [
       "<div>\n",
       "<style scoped>\n",
       "    .dataframe tbody tr th:only-of-type {\n",
       "        vertical-align: middle;\n",
       "    }\n",
       "\n",
       "    .dataframe tbody tr th {\n",
       "        vertical-align: top;\n",
       "    }\n",
       "\n",
       "    .dataframe thead th {\n",
       "        text-align: right;\n",
       "    }\n",
       "</style>\n",
       "<table border=\"1\" class=\"dataframe\">\n",
       "  <thead>\n",
       "    <tr style=\"text-align: right;\">\n",
       "      <th></th>\n",
       "      <th>game_id</th>\n",
       "      <th>team_id_for</th>\n",
       "      <th>period</th>\n",
       "      <th>periodTime</th>\n",
       "      <th>goals_away</th>\n",
       "      <th>goals_home</th>\n",
       "      <th>won</th>\n",
       "      <th>goals_diff</th>\n",
       "      <th>year</th>\n",
       "    </tr>\n",
       "  </thead>\n",
       "  <tbody>\n",
       "    <tr>\n",
       "      <th>0</th>\n",
       "      <td>2000020003</td>\n",
       "      <td>7</td>\n",
       "      <td>3</td>\n",
       "      <td>793</td>\n",
       "      <td>1</td>\n",
       "      <td>4</td>\n",
       "      <td>True</td>\n",
       "      <td>3</td>\n",
       "      <td>2000</td>\n",
       "    </tr>\n",
       "    <tr>\n",
       "      <th>1</th>\n",
       "      <td>2000020004</td>\n",
       "      <td>4</td>\n",
       "      <td>3</td>\n",
       "      <td>1185</td>\n",
       "      <td>3</td>\n",
       "      <td>6</td>\n",
       "      <td>True</td>\n",
       "      <td>3</td>\n",
       "      <td>2000</td>\n",
       "    </tr>\n",
       "    <tr>\n",
       "      <th>2</th>\n",
       "      <td>2000020006</td>\n",
       "      <td>27</td>\n",
       "      <td>2</td>\n",
       "      <td>949</td>\n",
       "      <td>1</td>\n",
       "      <td>4</td>\n",
       "      <td>True</td>\n",
       "      <td>3</td>\n",
       "      <td>2000</td>\n",
       "    </tr>\n",
       "    <tr>\n",
       "      <th>3</th>\n",
       "      <td>2000020007</td>\n",
       "      <td>1</td>\n",
       "      <td>2</td>\n",
       "      <td>299</td>\n",
       "      <td>2</td>\n",
       "      <td>5</td>\n",
       "      <td>True</td>\n",
       "      <td>3</td>\n",
       "      <td>2000</td>\n",
       "    </tr>\n",
       "    <tr>\n",
       "      <th>6</th>\n",
       "      <td>2000020008</td>\n",
       "      <td>26</td>\n",
       "      <td>1</td>\n",
       "      <td>654</td>\n",
       "      <td>3</td>\n",
       "      <td>0</td>\n",
       "      <td>True</td>\n",
       "      <td>3</td>\n",
       "      <td>2000</td>\n",
       "    </tr>\n",
       "  </tbody>\n",
       "</table>\n",
       "</div>"
      ],
      "text/plain": [
       "      game_id  team_id_for  period  periodTime  goals_away  goals_home   won  \\\n",
       "0  2000020003            7       3         793           1           4  True   \n",
       "1  2000020004            4       3        1185           3           6  True   \n",
       "2  2000020006           27       2         949           1           4  True   \n",
       "3  2000020007            1       2         299           2           5  True   \n",
       "6  2000020008           26       1         654           3           0  True   \n",
       "\n",
       "   goals_diff  year  \n",
       "0           3  2000  \n",
       "1           3  2000  \n",
       "2           3  2000  \n",
       "3           3  2000  \n",
       "6           3  2000  "
      ]
     },
     "execution_count": 44,
     "metadata": {},
     "output_type": "execute_result"
    }
   ],
   "source": [
    "three_goal_games_ids = three_goal_games['game_id'].drop_duplicates(keep='first')\n",
    "\n",
    "indices = three_goal_games_ids.index.tolist()\n",
    "\n",
    "final_three_goals_df = three_goal_games.iloc[indices]\n",
    "\n",
    "final_three_goals_df.head()"
   ]
  },
  {
   "cell_type": "code",
   "execution_count": 45,
   "metadata": {},
   "outputs": [
    {
     "data": {
      "image/png": "[encoded data removed]",
      "text/plain": [
       "<Figure size 432x288 with 1 Axes>"
      ]
     },
     "metadata": {
      "needs_background": "light"
     },
     "output_type": "display_data"
    }
   ],
   "source": [
    "# Strictly compare wins vs losses for first term with =+3 goal diff\n",
    "\n",
    "sns.countplot(data=final_three_goals_df, x='won')\n",
    "\n",
    "plt.title('Teams Wins/Loss that had First Three Goal Lead')\n",
    "\n",
    "plt.show()"
   ]
  },
  {
   "cell_type": "code",
   "execution_count": 46,
   "metadata": {},
   "outputs": [
    {
     "name": "stdout",
     "output_type": "stream",
     "text": [
      "Percentage of games won by team with first three goal lead: 96.616\n"
     ]
    }
   ],
   "source": [
    "# It looks like an even greater percentage, as expected since every team that had a 3 goal lead necessarily\n",
    "# had a two goal lead. Find percentage of wins\n",
    "\n",
    "perc_won = len(final_three_goals_df[final_three_goals_df['won'] == True]) / len(final_three_goals_df) * 100\n",
    "\n",
    "print('Percentage of games won by team with first three goal lead: ' + str(round(perc_won, 3)))"
   ]
  },
  {
   "cell_type": "code",
   "execution_count": 47,
   "metadata": {},
   "outputs": [
    {
     "data": {
      "image/png": "[encoded data removed]",
      "text/plain": [
       "<Figure size 432x288 with 1 Axes>"
      ]
     },
     "metadata": {
      "needs_background": "light"
     },
     "output_type": "display_data"
    }
   ],
   "source": [
    "# Roughly 96.62% of teams with the first three goal lead end up winning. See if there is any\n",
    "# difference by period\n",
    "\n",
    "sns.countplot(data=final_three_goals_df, x='period', hue='won')\n",
    "\n",
    "plt.title('Wins/Losses By Period First Three Goal Lead Obtained')\n",
    "\n",
    "plt.legend(loc=(1.05, 0.5))\n",
    "plt.show()"
   ]
  },
  {
   "cell_type": "code",
   "execution_count": 48,
   "metadata": {},
   "outputs": [
    {
     "name": "stdout",
     "output_type": "stream",
     "text": [
      "Percent of winning with first three goal lead in period 1: 92.39209948792977\n",
      "Percent of winning with first three goal lead in period 2: 94.90186082080041\n",
      "Percent of winning with first three goal lead in period 3: 99.41717103788388\n"
     ]
    }
   ],
   "source": [
    "period_1 = final_three_goals_df['period'] == 1\n",
    "period_2 = final_three_goals_df['period'] == 2\n",
    "period_3 = final_three_goals_df['period'] == 3\n",
    "\n",
    "won = final_three_goals_df['won'] == True\n",
    "\n",
    "perc_per1 = len(final_three_goals_df[period_1 & won]) / len(final_three_goals_df[period_1]) * 100\n",
    "perc_per2 = len(final_three_goals_df[period_2 & won]) / len(final_three_goals_df[period_2]) * 100\n",
    "perc_per3 = len(final_three_goals_df[period_3 & won]) / len(final_three_goals_df[period_3]) * 100\n",
    "\n",
    "print('Percent of winning with first three goal lead in period 1: ' + str(perc_per1))\n",
    "print('Percent of winning with first three goal lead in period 2: ' + str(perc_per2))\n",
    "print('Percent of winning with first three goal lead in period 3: ' + str(perc_per3))\n"
   ]
  },
  {
   "cell_type": "code",
   "execution_count": 49,
   "metadata": {},
   "outputs": [
    {
     "data": {
      "image/png": "[encoded data removed]",
      "text/plain": [
       "<Figure size 576x432 with 1 Axes>"
      ]
     },
     "metadata": {
      "needs_background": "light"
     },
     "output_type": "display_data"
    }
   ],
   "source": [
    "# Let's find the percentages won by year like above.\n",
    "\n",
    "years = final_three_goals_df['year'].unique().tolist()\n",
    "percentages = []\n",
    "\n",
    "for year in years:\n",
    "    year_cond = final_three_goals_df['year'] == year\n",
    "    won_cond = final_three_goals_df['won'] == True\n",
    "    \n",
    "    denom = len(final_three_goals_df[year_cond])\n",
    "    num = len(final_three_goals_df[year_cond & won_cond])\n",
    "    \n",
    "    perc = num / denom * 100\n",
    "    \n",
    "    percentages.append(perc)\n",
    "\n",
    "    \n",
    "plt.figure(figsize=(8,6))\n",
    "\n",
    "sns.barplot(x=years, y=percentages, palette='Blues')\n",
    "\n",
    "plt.xticks(rotation=90)\n",
    "plt.title('Percentage of Winning with First Three Goal Lead by Year')\n",
    "plt.show()"
   ]
  },
  {
   "cell_type": "markdown",
   "metadata": {},
   "source": [
    "We have seen that, over the years, everything stays rather consistent. We could investigate the same idea with 4+ goal leads, but we will just quickly show that this is so rare for a team with 4+ goal lead to lose that it is not worth investigating further."
   ]
  },
  {
   "cell_type": "markdown",
   "metadata": {},
   "source": [
    "# Four Goal Lead Analysis"
   ]
  },
  {
   "cell_type": "code",
   "execution_count": 53,
   "metadata": {},
   "outputs": [
    {
     "data": {
      "text/plain": [
       "True     3883\n",
       "False      27\n",
       "Name: won, dtype: int64"
      ]
     },
     "execution_count": 53,
     "metadata": {},
     "output_type": "execute_result"
    }
   ],
   "source": [
    "four_goal_games = data[data['goals_diff'] == 4]\n",
    "\n",
    "four_goal_games = four_goal_games.sort_values(['game_id', 'period', 'periodTime'])\n",
    "\n",
    "four_goal_games = four_goal_games.reset_index() # reset index after sorting\n",
    "four_goal_games = four_goal_games.drop('index', axis=1)\n",
    "\n",
    "indices = four_goal_games['game_id'].drop_duplicates().index.tolist()\n",
    "\n",
    "four_goal_games_final = four_goal_games.iloc[indices]\n",
    "\n",
    "four_goal_games_final['won'].value_counts()"
   ]
  },
  {
   "cell_type": "markdown",
   "metadata": {},
   "source": [
    "As we can see, only 27/3910 teams that got a four goal lead first ended up losing, so it is extremely rare. We will not investigate further."
   ]
  },
  {
   "cell_type": "markdown",
   "metadata": {},
   "source": [
    "A couple comments:\n",
    "\n",
    "1) We noticed consistently that the percentages of winning went up the later a particular lead was first achieved by period. However, I do not think this would be an obvious result (aside from the third period when teams will pull their goalies to try to score, thus giving up more goals). \n",
    "\n",
    "The reason this pattern strikes me as surprising is, one could easily argue, the earlier a team gets to a particular lead, the better that team is than the other, so we could expect the earlier leads to win at a higher percentage.\n",
    "\n",
    "The argument for the other side is that, the earlier a lead is obtained, the more time the other team has to come back, the greater the chance the team with the lead could lose. It is also common for teams to \"take less chances\" when they have a lead, and as a result, are less likely to score to try to protect the lead. Not scoring more does keep their risk for ultimately losing higher, so it is also possible the data suggests staying aggressive and doing what got a team the lead in the first place is what a team should continue to do.\n",
    "\n",
    "By our data, it appears that the second would be a better explanation than the first, of course, there are many other variables.\n",
    "\n",
    "2) Rules change over the years allowing it to be easier or harder to score. I was surprised to see such consistency with the data over the years. It would stand to reason, the easier it is to score, the more likely it is to give up a lead, but once again, nothing really suggests this happens since there are so many other variables at play. We can look at the average number of goals per year over the years to see if this is true, which we did in the \"Goal Analysis\" notebook. This showed the average number of goals per game stays between 2.5 - 3.0 pretty consistently, so not much difference here.\n",
    "\n"
   ]
  }
 ],
 "metadata": {
  "kernelspec": {
   "display_name": "py3-no-TF",
   "language": "python",
   "name": "course-environment"
  },
  "language_info": {
   "codemirror_mode": {
    "name": "ipython",
    "version": 3
   },
   "file_extension": ".py",
   "mimetype": "text/x-python",
   "name": "python",
   "nbconvert_exporter": "python",
   "pygments_lexer": "ipython3",
   "version": "3.8.0"
  }
 },
 "nbformat": 4,
 "nbformat_minor": 4
}
